{
 "cells": [
  {
   "cell_type": "code",
   "execution_count": 2,
   "id": "e5954a59",
   "metadata": {},
   "outputs": [],
   "source": [
    "import requests\n",
    "from bs4 import BeautifulSoup"
   ]
  },
  {
   "cell_type": "code",
   "execution_count": 8,
   "metadata": {},
   "outputs": [],
   "source": [
    "root_url = 'https://www.ccmpa.ca/producers/'\n",
    "Urls = []\n",
    "Urls.append('root_url')"
   ]
  },
  {
   "cell_type": "code",
   "execution_count": 27,
   "metadata": {},
   "outputs": [],
   "source": [
    "response = requests.get(root_url)\n",
    "html = response.text\n",
    "soup = BeautifulSoup(html, 'html.parser')\n",
    "Section = soup.find_all(class_ = 'producers')"
   ]
  },
  {
   "cell_type": "code",
   "execution_count": 78,
   "metadata": {
    "tags": []
   },
   "outputs": [
    {
     "output_type": "stream",
     "name": "stdout",
     "text": [
      "<a href=\"https://ccmpa.ca/producers/basalite-concrete-products-llc/\"><img alt=\"Basalite Concrete Products – Vancouver ULC\" class=\"img-responsive\" src=\"https://ccmpa.ca/wp-content/uploads/2012/11/image001.jpg\"/></a>\n<a href=\"https://ccmpa.ca/producers/basalite-concrete-products-llc/\" rel=\"bookmark\" title=\"Permalink to Basalite Concrete Products – Vancouver ULC\">Basalite Concrete Products – Vancouver ULC</a>\n<a class=\"innovation-button style2\" href=\"https://ccmpa.ca/producers/basalite-concrete-products-llc/\">View Producer</a>\n"
     ]
    }
   ],
   "source": [
    "links = section.find_all(class_ = 'innovation-button')\n",
    "for link in links:\n",
    "   print(link)\n",
    "   Urls.append(link)\n",
    "\n",
    "#print(len(Urls))\n",
    "#sections = soup.find_all(class_ = \"post-wrapper now\")\n",
    "#for section in sections:\n",
    "    #lin"
   ]
  }
 ],
 "metadata": {
  "kernelspec": {
   "name": "python3",
   "display_name": "Python 3.9.4 64-bit"
  },
  "language_info": {
   "codemirror_mode": {
    "name": "ipython",
    "version": 3
   },
   "file_extension": ".py",
   "mimetype": "text/x-python",
   "name": "python",
   "nbconvert_exporter": "python",
   "pygments_lexer": "ipython3",
   "version": "3.9.4"
  },
  "interpreter": {
   "hash": "8f0b0387341158368e76e37e041ace2634b8300c178d0bf8661e3da462a1a4ca"
  }
 },
 "nbformat": 4,
 "nbformat_minor": 5
}